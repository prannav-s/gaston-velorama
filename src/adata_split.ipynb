{
 "cells": [
  {
   "cell_type": "code",
   "execution_count": 8,
   "id": "cb502793-3ccf-4763-8204-8cb0196cd98a",
   "metadata": {},
   "outputs": [
    {
     "name": "stdout",
     "output_type": "stream",
     "text": [
      "[8833 5552 7763 ... 6946 8572 3541]\n",
      "Shape of adata_A: (3328, 23096)\n",
      "Shape of adata_B: (3328, 23096)\n",
      "Shape of adata_C: (3329, 23096)\n",
      "Shape of adata_A.uns['DAG']: (3328, 3328)\n",
      "Shape of adata_B.uns['DAG']: (3328, 3328)\n",
      "Shape of adata_C.uns['DAG']: (3329, 3329)\n",
      "Files saved successfully.\n"
     ]
    }
   ],
   "source": [
    "import scanpy as sc\n",
    "import numpy as np\n",
    "\n",
    "# Replace 'your_file.h5ad' with the path to your .h5ad file\n",
    "file_path = '/hpc/home/ps325/projects/velorama/datasets/'\n",
    "file = 'gaston_dynamics_test'\n",
    "adata = sc.read_h5ad(file_path + file + '.h5ad')\n",
    "\n",
    "# Determine the number of observations to split into thirds\n",
    "n_obs = adata.n_obs\n",
    "third = n_obs // 3\n",
    "indices = np.arange(n_obs)\n",
    "\n",
    "seed = 42\n",
    "np.random.seed(seed)\n",
    "\n",
    "np.random.shuffle(indices)\n",
    "\n",
    "print(indices[:third])\n",
    "\n",
    "# Split the data into three parts\n",
    "adata_A = adata[indices[:third]].copy()\n",
    "adata_B = adata[indices[third:2*third]].copy()\n",
    "adata_C = adata[indices[2*third:]].copy()\n",
    "\n",
    "# Check the shapes of the subsets\n",
    "print(\"Shape of adata_A:\", adata_A.shape)\n",
    "print(\"Shape of adata_B:\", adata_B.shape)\n",
    "print(\"Shape of adata_C:\", adata_C.shape)\n",
    "\n",
    "# Split the DAG uns data\n",
    "adata_A.uns[\"DAG\"] = adata.uns[\"DAG\"][indices[:third], :][:, indices[:third]]\n",
    "adata_B.uns[\"DAG\"] = adata.uns[\"DAG\"][indices[third:2*third], :][:, indices[third:2*third]]\n",
    "adata_C.uns[\"DAG\"] = adata.uns[\"DAG\"][indices[2*third:], :][:, indices[2*third:]]\n",
    "\n",
    "# Check the shapes of the DAG subsets\n",
    "print(\"Shape of adata_A.uns['DAG']:\", adata_A.uns[\"DAG\"].shape)\n",
    "print(\"Shape of adata_B.uns['DAG']:\", adata_B.uns[\"DAG\"].shape)\n",
    "print(\"Shape of adata_C.uns['DAG']:\", adata_C.uns[\"DAG\"].shape)\n",
    "\n",
    "# Save each part with the appropriate filename\n",
    "adata_A.write(f'{file_path}cerebellum_A.h5ad')\n",
    "adata_B.write(f'{file_path}cerebellum_B.h5ad')\n",
    "adata_C.write(f'{file_path}cerebellum_C.h5ad')\n",
    "\n",
    "print(\"Files saved successfully.\")\n"
   ]
  },
  {
   "cell_type": "code",
   "execution_count": null,
   "id": "c13a8f25-2e96-477e-a7b6-310b37515e18",
   "metadata": {},
   "outputs": [],
   "source": []
  }
 ],
 "metadata": {
  "kernelspec": {
   "display_name": "py39cuda115_ps325",
   "language": "python",
   "name": "py39cuda115_ps325"
  },
  "language_info": {
   "codemirror_mode": {
    "name": "ipython",
    "version": 3
   },
   "file_extension": ".py",
   "mimetype": "text/x-python",
   "name": "python",
   "nbconvert_exporter": "python",
   "pygments_lexer": "ipython3",
   "version": "3.9.18"
  }
 },
 "nbformat": 4,
 "nbformat_minor": 5
}
