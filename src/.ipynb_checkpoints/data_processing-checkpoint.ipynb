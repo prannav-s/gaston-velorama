{
 "cells": [
  {
   "cell_type": "code",
   "execution_count": null,
   "id": "6f15274d-bf50-4e69-9e41-13c65ef69206",
   "metadata": {},
   "outputs": [],
   "source": [
    "import pandas as pd\n",
    "import numpy as np\n",
    "import scanpy as sp"
   ]
  }
 ],
 "metadata": {
  "kernelspec": {
   "display_name": "py39cuda115_ps325",
   "language": "python",
   "name": "py39cuda115_ps325"
  },
  "language_info": {
   "codemirror_mode": {
    "name": "ipython",
    "version": 3
   },
   "file_extension": ".py",
   "mimetype": "text/x-python",
   "name": "python",
   "nbconvert_exporter": "python",
   "pygments_lexer": "ipython3",
   "version": "3.9.18"
  }
 },
 "nbformat": 4,
 "nbformat_minor": 5
}
