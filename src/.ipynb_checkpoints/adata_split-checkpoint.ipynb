{
 "cells": [
  {
   "cell_type": "code",
   "execution_count": 2,
   "id": "60de3d27-af65-4c70-86d1-2b0699280de9",
   "metadata": {},
   "outputs": [],
   "source": [
    "import scanpy as sc"
   ]
  },
  {
   "cell_type": "code",
   "execution_count": 3,
   "id": "cb502793-3ccf-4763-8204-8cb0196cd98a",
   "metadata": {},
   "outputs": [
    {
     "name": "stdout",
     "output_type": "stream",
     "text": [
      "Files saved successfully.\n"
     ]
    }
   ],
   "source": [
    "\n",
    "# Replace 'your_file.h5ad' with the path to your .h5ad file\n",
    "file_path = '/hpc/home/ps325/projects/velorama/datasets/'\n",
    "file = 'gaston_dynamics_test'\n",
    "adata = sc.read_h5ad(file_path + file + '.h5ad')\n",
    "\n",
    "# Determine the number of observations to split into thirds\n",
    "n_obs = adata.n_obs\n",
    "third = n_obs // 3\n",
    "indices = np.arange(n_obs)\n",
    "np.random.shuffle(indices)\n",
    "\n",
    "print(indices)\n",
    "\n",
    "# Split the data into three parts\n",
    "adata_A = adata[:third].copy()\n",
    "adata_B = adata[third:2*third].copy()\n",
    "adata_C = adata[2*third:].copy()\n",
    "\n",
    "adata_A.uns[\"DAG\"] = adata.uns[\"DAG\"][:third, :third]\n",
    "adata_B.uns[\"DAG\"] = adata.uns[\"DAG\"][third:2*third, third:2*third]\n",
    "adata_C.uns[\"DAG\"] = adata.uns[\"DAG\"][2*third:, 2*third:]\n",
    "\n",
    "# Save each part with the appropriate filename\n",
    "\n",
    "print(\"Files saved successfully.\")"
   ]
  },
  {
   "cell_type": "code",
   "execution_count": 18,
   "id": "be530566-e610-48d3-a952-967ea399401f",
   "metadata": {},
   "outputs": [
    {
     "name": "stdout",
     "output_type": "stream",
     "text": [
      "3328\n",
      "3328\n"
     ]
    }
   ],
   "source": [
    "print(len(adata_A))\n",
    "print(len(adata_A.uns[\"DAG\"]))"
   ]
  },
  {
   "cell_type": "code",
   "execution_count": null,
   "id": "c13a8f25-2e96-477e-a7b6-310b37515e18",
   "metadata": {},
   "outputs": [],
   "source": []
  }
 ],
 "metadata": {
  "kernelspec": {
   "display_name": "py39cuda115_ps325",
   "language": "python",
   "name": "py39cuda115_ps325"
  },
  "language_info": {
   "codemirror_mode": {
    "name": "ipython",
    "version": 3
   },
   "file_extension": ".py",
   "mimetype": "text/x-python",
   "name": "python",
   "nbconvert_exporter": "python",
   "pygments_lexer": "ipython3",
   "version": "3.9.18"
  }
 },
 "nbformat": 4,
 "nbformat_minor": 5
}
